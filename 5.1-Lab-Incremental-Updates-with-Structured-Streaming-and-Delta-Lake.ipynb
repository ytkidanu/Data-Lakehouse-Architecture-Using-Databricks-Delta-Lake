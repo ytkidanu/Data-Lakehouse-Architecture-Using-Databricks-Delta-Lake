{
 "cells": [
  {
   "cell_type": "markdown",
   "metadata": {
    "application/vnd.databricks.v1+cell": {
     "cellMetadata": {},
     "inputWidgets": {},
     "nuid": "42af51fd-bef4-47ca-bb96-53e5e488f554",
     "showTitle": false,
     "tableResultSettingsMap": {},
     "title": ""
    }
   },
   "source": [
    "### Processing Incremental Updates with Structured Streaming and Delta Lake\n",
    "In this lab you'll apply your knowledge of structured streaming and Auto Loader to implement a simple multi-hop architecture.\n",
    "\n",
    "#### 1.0. Import Shared Utilities and Data Files\n",
    "Run the following cell to setup necessary variables and clear out past runs of this notebook. Note that re-executing this cell will allow you to start the lab over."
   ]
  },
  {
   "cell_type": "code",
   "execution_count": 0,
   "metadata": {
    "application/vnd.databricks.v1+cell": {
     "cellMetadata": {
      "byteLimit": 2048000,
      "rowLimit": 10000
     },
     "inputWidgets": {},
     "nuid": "9f02d4ec-6520-4906-bd69-9cd120265130",
     "showTitle": false,
     "tableResultSettingsMap": {},
     "title": ""
    }
   },
   "outputs": [
    {
     "output_type": "stream",
     "name": "stdout",
     "output_type": "stream",
     "text": [
      "Dropping the database \"dbacademy_dxr9fv_virginia_edu_dewd_5_1\"\nRemoving the working directory \"dbfs:/user/dxr9fv@virginia.edu/dbacademy/dewd/5.1\"\n\nCreating the database \"dbacademy_dxr9fv_virginia_edu_dewd_5_1\"\n\nPredefined Paths:\n  DA.paths.working_dir: dbfs:/user/dxr9fv@virginia.edu/dbacademy/dewd/5.1\n  DA.paths.user_db:     dbfs:/user/dxr9fv@virginia.edu/dbacademy/dewd/5.1/5_1.db\n  DA.paths.checkpoints: dbfs:/user/dxr9fv@virginia.edu/dbacademy/dewd/5.1/_checkpoints\n\nPredefined tables in dbacademy_dxr9fv_virginia_edu_dewd_5_1:\n  -none-\n\nSetup completed in 16 seconds\n"
     ]
    }
   ],
   "source": [
    "%run ./Includes/5.1-Lab-setup"
   ]
  },
  {
   "cell_type": "markdown",
   "metadata": {
    "application/vnd.databricks.v1+cell": {
     "cellMetadata": {},
     "inputWidgets": {},
     "nuid": "431e528d-711c-4144-9ed2-5875a0de7f24",
     "showTitle": false,
     "tableResultSettingsMap": {},
     "title": ""
    }
   },
   "source": [
    "\n",
    "#### 2.0. Bronze Table: Ingest data\n",
    "This lab uses a collection of customer-related CSV data from DBFS found in *`dbfs:/FileStore/lab_data/retail-org/customers/`*.\n",
    "- Read this data using Auto Loader using its schema inference (use **`DA.paths.checkpoints`** to store the schema info in a dedicated folder for **`customers`**).\n",
    "- Stream the raw data to a Delta table called **`bronze`** using the **`append`** output mode."
   ]
  },
  {
   "cell_type": "code",
   "execution_count": 0,
   "metadata": {
    "application/vnd.databricks.v1+cell": {
     "cellMetadata": {
      "byteLimit": 2048000,
      "rowLimit": 10000
     },
     "inputWidgets": {},
     "nuid": "176594fc-08a2-4dde-b02f-095098cabd42",
     "showTitle": false,
     "tableResultSettingsMap": {},
     "title": ""
    }
   },
   "outputs": [],
   "source": [
    "# TODO:\n",
    "customers_checkpoint_path = f\"{DA.paths.checkpoints}/customers\"\n",
    "query = (spark.readStream\n",
    "        .format(\"cloudFiles\") \n",
    "        .option(\"cloudFiles.format\", \"csv\") \n",
    "        .option(\"cloudFiles.schemaLocation\", customers_checkpoint_path)\n",
    "        .load(\"dbfs:/FileStore/lab_data/retail-org/customers/\")\n",
    "        .writeStream\n",
    "        .format(\"delta\")\n",
    "        .option(\"checkpointLocation\", customers_checkpoint_path)\n",
    "        .outputMode(\"append\")\n",
    "        .table(\"bronze\"))\n"
   ]
  },
  {
   "cell_type": "code",
   "execution_count": 0,
   "metadata": {
    "application/vnd.databricks.v1+cell": {
     "cellMetadata": {
      "byteLimit": 2048000,
      "rowLimit": 10000
     },
     "inputWidgets": {},
     "nuid": "e992ca75-1679-4b11-aab8-369b3bc5b7ea",
     "showTitle": false,
     "tableResultSettingsMap": {},
     "title": ""
    }
   },
   "outputs": [
    {
     "output_type": "stream",
     "name": "stdout",
     "output_type": "stream",
     "text": [
      "The stream has processed 3 batchs\n"
     ]
    }
   ],
   "source": [
    "DA.block_until_stream_is_ready(query)"
   ]
  },
  {
   "cell_type": "markdown",
   "metadata": {
    "application/vnd.databricks.v1+cell": {
     "cellMetadata": {},
     "inputWidgets": {},
     "nuid": "60a19272-7a96-48f1-821a-3f97df06303e",
     "showTitle": false,
     "tableResultSettingsMap": {},
     "title": ""
    }
   },
   "source": [
    "##### 2.1. Create a Streaming Temporary View\n",
    "Create a streaming temporary view named **`bronze_temp`** into the **`bronze`** table so we can perform transformations using SQL."
   ]
  },
  {
   "cell_type": "code",
   "execution_count": 0,
   "metadata": {
    "application/vnd.databricks.v1+cell": {
     "cellMetadata": {
      "byteLimit": 2048000,
      "rowLimit": 10000
     },
     "inputWidgets": {},
     "nuid": "03be6ed8-4bad-46b9-bb8b-bbb6a33c2f7a",
     "showTitle": false,
     "tableResultSettingsMap": {},
     "title": ""
    }
   },
   "outputs": [],
   "source": [
    "(spark\n",
    "  .readStream\n",
    "  .table(\"bronze\")\n",
    "  .createOrReplaceTempView(\"bronze_temp\"))"
   ]
  },
  {
   "cell_type": "markdown",
   "metadata": {
    "application/vnd.databricks.v1+cell": {
     "cellMetadata": {},
     "inputWidgets": {},
     "nuid": "65e84cd0-c27e-4eb8-9bb5-d205b0894b17",
     "showTitle": false,
     "tableResultSettingsMap": {},
     "title": ""
    }
   },
   "source": [
    "##### 2.2. Clean and Enhance the Data\n",
    "Use the CTAS syntax to define a new streaming view called **`bronze_enhanced_temp`** that does the following:\n",
    "* Skips records with a null **`postcode`** (set to zero)\n",
    "* Inserts a column called **`receipt_time`** containing a current timestamp\n",
    "* Inserts a column called **`source_file`** containing the input filename"
   ]
  },
  {
   "cell_type": "code",
   "execution_count": 0,
   "metadata": {
    "application/vnd.databricks.v1+cell": {
     "cellMetadata": {
      "byteLimit": 2048000,
      "implicitDf": true,
      "rowLimit": 10000
     },
     "inputWidgets": {},
     "nuid": "fcd64fdd-9b5d-45bc-b641-b4162ceacb63",
     "showTitle": false,
     "tableResultSettingsMap": {},
     "title": ""
    }
   },
   "outputs": [
    {
     "output_type": "display_data",
     "data": {
      "text/html": [
       "<style scoped>\n",
       "  .table-result-container {\n",
       "    max-height: 300px;\n",
       "    overflow: auto;\n",
       "  }\n",
       "  table, th, td {\n",
       "    border: 1px solid black;\n",
       "    border-collapse: collapse;\n",
       "  }\n",
       "  th, td {\n",
       "    padding: 5px;\n",
       "  }\n",
       "  th {\n",
       "    text-align: left;\n",
       "  }\n",
       "</style><div class='table-result-container'><table class='table-result'><thead style='background-color: white'><tr></tr></thead><tbody></tbody></table></div>"
      ]
     },
     "metadata": {
      "application/vnd.databricks.v1+output": {
       "addedWidgets": {},
       "aggData": [],
       "aggError": "",
       "aggOverflow": false,
       "aggSchema": [],
       "aggSeriesLimitReached": false,
       "aggType": "",
       "arguments": {},
       "columnCustomDisplayInfos": {},
       "data": [],
       "datasetInfos": [],
       "dbfsResultPath": null,
       "isJsonSchema": true,
       "metadata": {
        "dataframeName": null
       },
       "overflow": false,
       "plotOptions": {
        "customPlotOptions": {},
        "displayType": "table",
        "pivotAggregation": null,
        "pivotColumns": null,
        "xColumns": null,
        "yColumns": null
       },
       "removedWidgets": [],
       "schema": [],
       "type": "table"
      }
     },
     "output_type": "display_data"
    }
   ],
   "source": [
    "%sql\n",
    "-- TODO:\n",
    "CREATE OR REPLACE TEMPORARY VIEW bronze_enhanced_temp AS\n",
    "SELECT\n",
    "  *, current_timestamp() receipt_time, input_file_name() source_file\n",
    "  FROM bronze_temp\n",
    "  WHERE postcode > 0"
   ]
  },
  {
   "cell_type": "markdown",
   "metadata": {
    "application/vnd.databricks.v1+cell": {
     "cellMetadata": {},
     "inputWidgets": {},
     "nuid": "b00d377b-c499-4c5d-b72d-f3a992c8fc6f",
     "showTitle": false,
     "tableResultSettingsMap": {},
     "title": ""
    }
   },
   "source": [
    "#### 3.0. Silver Table\n",
    "Stream the data from **`bronze_enhanced_temp`** to a Delta table named **`silver`** using the **`append`** output mode. Use **`DA.paths.checkpoints`** and a dedicated folder for **`silver`** as the checkpoint path)."
   ]
  },
  {
   "cell_type": "code",
   "execution_count": 0,
   "metadata": {
    "application/vnd.databricks.v1+cell": {
     "cellMetadata": {
      "byteLimit": 2048000,
      "rowLimit": 10000
     },
     "inputWidgets": {},
     "nuid": "ac90bbf8-c569-48ed-aa6f-59c6de0ffa42",
     "showTitle": false,
     "tableResultSettingsMap": {},
     "title": ""
    }
   },
   "outputs": [],
   "source": [
    "# TODO:\n",
    "silver_checkpoint_path = f\"{DA.paths.checkpoints}/silver\"\n",
    "\n",
    "query = (spark.table(\"bronze_enhanced_temp\")\n",
    "         .writeStream\n",
    "         .format(\"delta\")\n",
    "         .option(\"checkpointLocation\", silver_checkpoint_path)\n",
    "         .outputMode(\"append\")\n",
    "         .table(\"silver\"))"
   ]
  },
  {
   "cell_type": "code",
   "execution_count": 0,
   "metadata": {
    "application/vnd.databricks.v1+cell": {
     "cellMetadata": {
      "byteLimit": 2048000,
      "rowLimit": 10000
     },
     "inputWidgets": {},
     "nuid": "269439ac-61dd-49ea-ae1a-e7fe22eb14b5",
     "showTitle": false,
     "tableResultSettingsMap": {},
     "title": ""
    }
   },
   "outputs": [
    {
     "output_type": "stream",
     "name": "stdout",
     "output_type": "stream",
     "text": [
      "The stream has processed 2 batchs\n"
     ]
    }
   ],
   "source": [
    "DA.block_until_stream_is_ready(query)"
   ]
  },
  {
   "cell_type": "markdown",
   "metadata": {
    "application/vnd.databricks.v1+cell": {
     "cellMetadata": {},
     "inputWidgets": {},
     "nuid": "3db953ec-fbad-49f4-b4bf-2b2e87b7f102",
     "showTitle": false,
     "tableResultSettingsMap": {},
     "title": ""
    }
   },
   "source": [
    "##### 3.1. Create a Streaming Temporary View\n",
    "Create another streaming temporary view named **`silver_temp`** for the **`silver`** table so we can perform business-level queries using SQL."
   ]
  },
  {
   "cell_type": "code",
   "execution_count": 0,
   "metadata": {
    "application/vnd.databricks.v1+cell": {
     "cellMetadata": {
      "byteLimit": 2048000,
      "rowLimit": 10000
     },
     "inputWidgets": {},
     "nuid": "29fb7ae0-3cc4-4fdc-a39c-436888567478",
     "showTitle": false,
     "tableResultSettingsMap": {},
     "title": ""
    }
   },
   "outputs": [],
   "source": [
    "(spark\n",
    "  .readStream\n",
    "  .table(\"silver\")\n",
    "  .createOrReplaceTempView(\"silver_temp\"))"
   ]
  },
  {
   "cell_type": "markdown",
   "metadata": {
    "application/vnd.databricks.v1+cell": {
     "cellMetadata": {},
     "inputWidgets": {},
     "nuid": "5f627fdb-0801-466a-b551-cbb2475db2b9",
     "showTitle": false,
     "tableResultSettingsMap": {},
     "title": ""
    }
   },
   "source": [
    "\n",
    "#### 4.0. Gold Table\n",
    "Use the CTAS syntax to define a new streaming view called **`customer_count_by_state_temp`** that counts customers per state."
   ]
  },
  {
   "cell_type": "code",
   "execution_count": 0,
   "metadata": {
    "application/vnd.databricks.v1+cell": {
     "cellMetadata": {
      "byteLimit": 2048000,
      "implicitDf": true,
      "rowLimit": 10000
     },
     "inputWidgets": {},
     "nuid": "ae488156-8f83-4687-85c9-9ad0634d3070",
     "showTitle": false,
     "tableResultSettingsMap": {},
     "title": ""
    }
   },
   "outputs": [
    {
     "output_type": "display_data",
     "data": {
      "text/html": [
       "<style scoped>\n",
       "  .table-result-container {\n",
       "    max-height: 300px;\n",
       "    overflow: auto;\n",
       "  }\n",
       "  table, th, td {\n",
       "    border: 1px solid black;\n",
       "    border-collapse: collapse;\n",
       "  }\n",
       "  th, td {\n",
       "    padding: 5px;\n",
       "  }\n",
       "  th {\n",
       "    text-align: left;\n",
       "  }\n",
       "</style><div class='table-result-container'><table class='table-result'><thead style='background-color: white'><tr></tr></thead><tbody></tbody></table></div>"
      ]
     },
     "metadata": {
      "application/vnd.databricks.v1+output": {
       "addedWidgets": {},
       "aggData": [],
       "aggError": "",
       "aggOverflow": false,
       "aggSchema": [],
       "aggSeriesLimitReached": false,
       "aggType": "",
       "arguments": {},
       "columnCustomDisplayInfos": {},
       "data": [],
       "datasetInfos": [],
       "dbfsResultPath": null,
       "isJsonSchema": true,
       "metadata": {
        "dataframeName": null
       },
       "overflow": false,
       "plotOptions": {
        "customPlotOptions": {},
        "displayType": "table",
        "pivotAggregation": null,
        "pivotColumns": null,
        "xColumns": null,
        "yColumns": null
       },
       "removedWidgets": [],
       "schema": [],
       "type": "table"
      }
     },
     "output_type": "display_data"
    }
   ],
   "source": [
    "%sql\n",
    "-- TODO:\n",
    "CREATE OR REPLACE TEMPORARY VIEW customer_count_by_state_temp AS\n",
    "SELECT state\n",
    "    , count(state) AS customer_count\n",
    "    FROM silver_temp\n",
    "    GROUP BY state\n"
   ]
  },
  {
   "cell_type": "markdown",
   "metadata": {
    "application/vnd.databricks.v1+cell": {
     "cellMetadata": {},
     "inputWidgets": {},
     "nuid": "0d74549f-2c3a-4e8f-b09d-b3f9d884e1c9",
     "showTitle": false,
     "tableResultSettingsMap": {},
     "title": ""
    }
   },
   "source": [
    "Finally, stream the data from the **`customer_count_by_state_temp`** view to a Delta table called **`gold_customer_count_by_state`**. Remember to use the **`complete`** output mode because aggregations like **`count()`** and sorting cannot operate on *unbounded* datasets.  Also, use **`DA.paths.checkpoints`** and a dedicated folder for **`customer_counts`** as the checkpoint path)."
   ]
  },
  {
   "cell_type": "code",
   "execution_count": 0,
   "metadata": {
    "application/vnd.databricks.v1+cell": {
     "cellMetadata": {
      "byteLimit": 2048000,
      "rowLimit": 10000
     },
     "inputWidgets": {},
     "nuid": "93c5d8a0-882d-4657-a22f-6a52a4ff2f03",
     "showTitle": false,
     "tableResultSettingsMap": {},
     "title": ""
    }
   },
   "outputs": [],
   "source": [
    "# TODO:\n",
    "customers_count_checkpoint_path = f\"{DA.paths.checkpoints}/customers_counts\"\n",
    "query = (spark.table(\"customer_count_by_state_temp\")\n",
    "         .writeStream\n",
    "         .format(\"delta\")\n",
    "         .option(\"checkpointLocation\", customers_count_checkpoint_path)\n",
    "         .outputMode(\"complete\")\n",
    "         .table(\"gold_customer_count_by_state\"))"
   ]
  },
  {
   "cell_type": "code",
   "execution_count": 0,
   "metadata": {
    "application/vnd.databricks.v1+cell": {
     "cellMetadata": {
      "byteLimit": 2048000,
      "rowLimit": 10000
     },
     "inputWidgets": {},
     "nuid": "853b65f6-afa4-43a8-b014-3d11115b02a0",
     "showTitle": false,
     "tableResultSettingsMap": {},
     "title": ""
    }
   },
   "outputs": [
    {
     "output_type": "stream",
     "name": "stdout",
     "output_type": "stream",
     "text": [
      "The stream has processed 15 batchs\n"
     ]
    }
   ],
   "source": [
    "DA.block_until_stream_is_ready(query)"
   ]
  },
  {
   "cell_type": "markdown",
   "metadata": {
    "application/vnd.databricks.v1+cell": {
     "cellMetadata": {},
     "inputWidgets": {},
     "nuid": "ca186f2a-62ff-4b1f-be75-936190dbd058",
     "showTitle": false,
     "tableResultSettingsMap": {},
     "title": ""
    }
   },
   "source": [
    "#### 5.0. Query the Results\n",
    "Query the **`gold_customer_count_by_state`** table (this will not be a streaming query)."
   ]
  },
  {
   "cell_type": "code",
   "execution_count": 0,
   "metadata": {
    "application/vnd.databricks.v1+cell": {
     "cellMetadata": {
      "byteLimit": 2048000,
      "implicitDf": true,
      "rowLimit": 10000
     },
     "inputWidgets": {},
     "nuid": "12a846b2-8a76-4c20-accc-8a350befa08f",
     "showTitle": false,
     "tableResultSettingsMap": {},
     "title": ""
    }
   },
   "outputs": [
    {
     "output_type": "display_data",
     "data": {
      "text/html": [
       "<style scoped>\n",
       "  .table-result-container {\n",
       "    max-height: 300px;\n",
       "    overflow: auto;\n",
       "  }\n",
       "  table, th, td {\n",
       "    border: 1px solid black;\n",
       "    border-collapse: collapse;\n",
       "  }\n",
       "  th, td {\n",
       "    padding: 5px;\n",
       "  }\n",
       "  th {\n",
       "    text-align: left;\n",
       "  }\n",
       "</style><div class='table-result-container'><table class='table-result'><thead style='background-color: white'><tr><th>state</th><th>customer_count</th></tr></thead><tbody><tr><td>MT</td><td>203</td></tr><tr><td>TX</td><td>564</td></tr><tr><td>NV</td><td>40</td></tr><tr><td>AR</td><td>11</td></tr><tr><td>NH</td><td>2</td></tr><tr><td>WI</td><td>938</td></tr><tr><td>VT</td><td>157</td></tr><tr><td>HI</td><td>65</td></tr><tr><td>UT</td><td>416</td></tr><tr><td>AL</td><td>65</td></tr><tr><td>RI</td><td>223</td></tr><tr><td>CO</td><td>664</td></tr><tr><td>FL</td><td>2517</td></tr><tr><td>PA</td><td>655</td></tr><tr><td>AK</td><td>37</td></tr><tr><td>MA</td><td>1889</td></tr><tr><td>OH</td><td>1914</td></tr><tr><td>WA</td><td>552</td></tr><tr><td>ND</td><td>61</td></tr><tr><td>ME</td><td>339</td></tr><tr><td>DE</td><td>37</td></tr><tr><td>MI</td><td>1079</td></tr><tr><td>NM</td><td>23</td></tr><tr><td>MS</td><td>18</td></tr><tr><td>MD</td><td>419</td></tr><tr><td>OR</td><td>427</td></tr><tr><td>NE</td><td>41</td></tr><tr><td>CT</td><td>7</td></tr><tr><td>IA</td><td>74</td></tr><tr><td>WV</td><td>5</td></tr><tr><td>NY</td><td>3363</td></tr><tr><td>MN</td><td>622</td></tr><tr><td>NC</td><td>1011</td></tr><tr><td>MO</td><td>507</td></tr><tr><td>VA</td><td>707</td></tr><tr><td>LA</td><td>111</td></tr><tr><td>WY</td><td>26</td></tr><tr><td>OK</td><td>30</td></tr><tr><td>KS</td><td>671</td></tr><tr><td>CA</td><td>2874</td></tr><tr><td>GA</td><td>256</td></tr><tr><td>DC</td><td>21</td></tr><tr><td>KY</td><td>93</td></tr><tr><td>IN</td><td>1105</td></tr><tr><td>IL</td><td>870</td></tr><tr><td>SD</td><td>19</td></tr><tr><td>TN</td><td>140</td></tr><tr><td>NJ</td><td>1503</td></tr><tr><td>SC</td><td>172</td></tr><tr><td>ID</td><td>32</td></tr><tr><td>AZ</td><td>600</td></tr></tbody></table></div>"
      ]
     },
     "metadata": {
      "application/vnd.databricks.v1+output": {
       "addedWidgets": {},
       "aggData": [],
       "aggError": "",
       "aggOverflow": false,
       "aggSchema": [],
       "aggSeriesLimitReached": false,
       "aggType": "",
       "arguments": {},
       "columnCustomDisplayInfos": {},
       "data": [
        [
         "MT",
         203
        ],
        [
         "TX",
         564
        ],
        [
         "NV",
         40
        ],
        [
         "AR",
         11
        ],
        [
         "NH",
         2
        ],
        [
         "WI",
         938
        ],
        [
         "VT",
         157
        ],
        [
         "HI",
         65
        ],
        [
         "UT",
         416
        ],
        [
         "AL",
         65
        ],
        [
         "RI",
         223
        ],
        [
         "CO",
         664
        ],
        [
         "FL",
         2517
        ],
        [
         "PA",
         655
        ],
        [
         "AK",
         37
        ],
        [
         "MA",
         1889
        ],
        [
         "OH",
         1914
        ],
        [
         "WA",
         552
        ],
        [
         "ND",
         61
        ],
        [
         "ME",
         339
        ],
        [
         "DE",
         37
        ],
        [
         "MI",
         1079
        ],
        [
         "NM",
         23
        ],
        [
         "MS",
         18
        ],
        [
         "MD",
         419
        ],
        [
         "OR",
         427
        ],
        [
         "NE",
         41
        ],
        [
         "CT",
         7
        ],
        [
         "IA",
         74
        ],
        [
         "WV",
         5
        ],
        [
         "NY",
         3363
        ],
        [
         "MN",
         622
        ],
        [
         "NC",
         1011
        ],
        [
         "MO",
         507
        ],
        [
         "VA",
         707
        ],
        [
         "LA",
         111
        ],
        [
         "WY",
         26
        ],
        [
         "OK",
         30
        ],
        [
         "KS",
         671
        ],
        [
         "CA",
         2874
        ],
        [
         "GA",
         256
        ],
        [
         "DC",
         21
        ],
        [
         "KY",
         93
        ],
        [
         "IN",
         1105
        ],
        [
         "IL",
         870
        ],
        [
         "SD",
         19
        ],
        [
         "TN",
         140
        ],
        [
         "NJ",
         1503
        ],
        [
         "SC",
         172
        ],
        [
         "ID",
         32
        ],
        [
         "AZ",
         600
        ]
       ],
       "datasetInfos": [],
       "dbfsResultPath": null,
       "isJsonSchema": true,
       "metadata": {
        "createTempViewForImplicitDf": true,
        "dataframeName": "_sqldf",
        "executionCount": 20
       },
       "overflow": false,
       "plotOptions": {
        "customPlotOptions": {},
        "displayType": "table",
        "pivotAggregation": null,
        "pivotColumns": null,
        "xColumns": null,
        "yColumns": null
       },
       "removedWidgets": [],
       "schema": [
        {
         "metadata": "{}",
         "name": "state",
         "type": "\"string\""
        },
        {
         "metadata": "{}",
         "name": "customer_count",
         "type": "\"long\""
        }
       ],
       "type": "table"
      }
     },
     "output_type": "display_data"
    }
   ],
   "source": [
    "%sql\n",
    "SELECT * FROM gold_customer_count_by_state"
   ]
  },
  {
   "cell_type": "markdown",
   "metadata": {
    "application/vnd.databricks.v1+cell": {
     "cellMetadata": {},
     "inputWidgets": {},
     "nuid": "90cbf4de-2269-4a8a-9d23-be8128621149",
     "showTitle": false,
     "tableResultSettingsMap": {},
     "title": ""
    }
   },
   "source": [
    "#### 6.0. Clean Up\n",
    "Run the following cell to remove the database and all data associated with this lab."
   ]
  },
  {
   "cell_type": "code",
   "execution_count": 0,
   "metadata": {
    "application/vnd.databricks.v1+cell": {
     "cellMetadata": {
      "byteLimit": 2048000,
      "rowLimit": 10000
     },
     "inputWidgets": {},
     "nuid": "2633ccc7-cde5-4fd1-8351-268d39b8d97e",
     "showTitle": false,
     "tableResultSettingsMap": {},
     "title": ""
    }
   },
   "outputs": [],
   "source": [
    "DA.cleanup()"
   ]
  },
  {
   "cell_type": "markdown",
   "metadata": {
    "application/vnd.databricks.v1+cell": {
     "cellMetadata": {},
     "inputWidgets": {},
     "nuid": "27599803-99c9-411d-bb91-1f12d0c8a214",
     "showTitle": false,
     "tableResultSettingsMap": {},
     "title": ""
    }
   },
   "source": [
    "By completing this lab, you should now feel comfortable:\n",
    "* Using PySpark to configure Auto Loader for incremental data ingestion\n",
    "* Using Spark SQL to aggregate streaming data\n",
    "* Streaming data to a Delta table"
   ]
  }
 ],
 "metadata": {
  "application/vnd.databricks.v1+notebook": {
   "dashboards": [],
   "environmentMetadata": null,
   "language": "python",
   "notebookMetadata": {
    "mostRecentlyExecutedCommandWithImplicitDF": {
     "commandId": 2169331655519082,
     "dataframes": [
      "_sqldf"
     ]
    },
    "pythonIndentUnit": 4
   },
   "notebookName": "5.1-Lab-Incremental-Updates-with-Structured-Streaming-and-Delta-Lake",
   "widgets": {}
  },
  "language_info": {
   "name": "python"
  }
 },
 "nbformat": 4,
 "nbformat_minor": 0
}
